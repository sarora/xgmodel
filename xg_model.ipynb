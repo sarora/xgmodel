{
 "cells": [
  {
   "cell_type": "code",
   "execution_count": 1,
   "id": "cadc40f7-fcfc-4106-b507-8a33dc9ddde6",
   "metadata": {},
   "outputs": [],
   "source": [
    "from statsbombpy import sb\n",
    "import pandas as pd\n",
    "import seaborn as sns\n",
    "from sklearn.model_selection import train_test_split\n",
    "from sklearn.ensemble import RandomForestClassifier\n",
    "from sklearn.metrics import classification_report\n",
    "import matplotlib.pyplot as plt\n"
   ]
  },
  {
   "cell_type": "markdown",
   "id": "1c0dc7bc-ba71-47d5-a02b-a1d3a1b12572",
   "metadata": {},
   "source": [
    "**xG Model** \n"
   ]
  },
  {
   "cell_type": "markdown",
   "id": "845cf030-0f01-4c47-b4c8-8c9472a3f27d",
   "metadata": {},
   "source": [
    "The xG metric describes the number of goals we'd expect a team to score based on the chances it creates. Each shot can be assigned an xG value, ranging from 0 to 1, which represents the probability of the shot resulting in a goal.\n",
    "\n",
    "\n",
    "The following notebook goes through creating an xG model created using Statsbomb public data. The model is creating using data from Barcelona's La Liga matches from 2004 to 2020."
   ]
  },
  {
   "cell_type": "markdown",
   "id": "7480fd25-b1d9-482d-ba36-82746a0f5fb3",
   "metadata": {
    "tags": []
   },
   "source": [
    "## Notebook Overview\n",
    "\n",
    "1. Fetching data \n",
    "    - 1.1 Getting data from Statsbomb\n",
    "    - 1.2 Extracting shots data and attributes\n",
    "    \n",
    "2. Data preprocessing for ML models\n",
    "    \n",
    "3. Model Performance\n",
    "\n",
    "4. Model comparison\n",
    "\n",
    "5. Future Work"
   ]
  },
  {
   "cell_type": "markdown",
   "id": "b60e10a5-95e4-459e-a6c5-c10bb4ae0145",
   "metadata": {},
   "source": [
    "## 1. Fetching data"
   ]
  },
  {
   "cell_type": "markdown",
   "id": "8060eec3-312d-43ba-bbb7-32b173038a7d",
   "metadata": {},
   "source": [
    "### 1.1 Getting data from Statsbomb. "
   ]
  },
  {
   "cell_type": "code",
   "execution_count": 2,
   "id": "c18eaf7e-4dd2-4196-b148-915dba69cb5a",
   "metadata": {},
   "outputs": [
    {
     "name": "stdout",
     "output_type": "stream",
     "text": [
      "credentials were not supplied. open data access only\n"
     ]
    }
   ],
   "source": [
    "sb_comp = sb.competitions()"
   ]
  },
  {
   "cell_type": "code",
   "execution_count": 3,
   "id": "08530df4-1903-424d-8299-94a0d61f6158",
   "metadata": {},
   "outputs": [
    {
     "data": {
      "text/html": [
       "<div>\n",
       "<style scoped>\n",
       "    .dataframe tbody tr th:only-of-type {\n",
       "        vertical-align: middle;\n",
       "    }\n",
       "\n",
       "    .dataframe tbody tr th {\n",
       "        vertical-align: top;\n",
       "    }\n",
       "\n",
       "    .dataframe thead th {\n",
       "        text-align: right;\n",
       "    }\n",
       "</style>\n",
       "<table border=\"1\" class=\"dataframe\">\n",
       "  <thead>\n",
       "    <tr style=\"text-align: right;\">\n",
       "      <th></th>\n",
       "      <th>competition_id</th>\n",
       "      <th>season_id</th>\n",
       "      <th>country_name</th>\n",
       "      <th>competition_name</th>\n",
       "      <th>competition_gender</th>\n",
       "      <th>competition_youth</th>\n",
       "      <th>competition_international</th>\n",
       "      <th>season_name</th>\n",
       "      <th>match_updated</th>\n",
       "      <th>match_updated_360</th>\n",
       "      <th>match_available_360</th>\n",
       "      <th>match_available</th>\n",
       "    </tr>\n",
       "  </thead>\n",
       "  <tbody>\n",
       "    <tr>\n",
       "      <th>30</th>\n",
       "      <td>11</td>\n",
       "      <td>21</td>\n",
       "      <td>Spain</td>\n",
       "      <td>La Liga</td>\n",
       "      <td>male</td>\n",
       "      <td>False</td>\n",
       "      <td>False</td>\n",
       "      <td>2009/2010</td>\n",
       "      <td>2021-10-26T13:56:40.989214</td>\n",
       "      <td>2021-06-13T16:17:31.694</td>\n",
       "      <td>None</td>\n",
       "      <td>2021-10-26T13:56:40.989214</td>\n",
       "    </tr>\n",
       "    <tr>\n",
       "      <th>31</th>\n",
       "      <td>11</td>\n",
       "      <td>41</td>\n",
       "      <td>Spain</td>\n",
       "      <td>La Liga</td>\n",
       "      <td>male</td>\n",
       "      <td>False</td>\n",
       "      <td>False</td>\n",
       "      <td>2008/2009</td>\n",
       "      <td>2020-07-29T05:00</td>\n",
       "      <td>2021-06-13T16:17:31.694</td>\n",
       "      <td>None</td>\n",
       "      <td>2020-07-29T05:00</td>\n",
       "    </tr>\n",
       "    <tr>\n",
       "      <th>32</th>\n",
       "      <td>11</td>\n",
       "      <td>40</td>\n",
       "      <td>Spain</td>\n",
       "      <td>La Liga</td>\n",
       "      <td>male</td>\n",
       "      <td>False</td>\n",
       "      <td>False</td>\n",
       "      <td>2007/2008</td>\n",
       "      <td>2021-10-26T13:13:56.180589</td>\n",
       "      <td>2021-06-13T16:17:31.694</td>\n",
       "      <td>None</td>\n",
       "      <td>2021-10-26T13:13:56.180589</td>\n",
       "    </tr>\n",
       "    <tr>\n",
       "      <th>33</th>\n",
       "      <td>11</td>\n",
       "      <td>39</td>\n",
       "      <td>Spain</td>\n",
       "      <td>La Liga</td>\n",
       "      <td>male</td>\n",
       "      <td>False</td>\n",
       "      <td>False</td>\n",
       "      <td>2006/2007</td>\n",
       "      <td>2020-07-29T05:00</td>\n",
       "      <td>2021-06-13T16:17:31.694</td>\n",
       "      <td>None</td>\n",
       "      <td>2020-07-29T05:00</td>\n",
       "    </tr>\n",
       "    <tr>\n",
       "      <th>34</th>\n",
       "      <td>11</td>\n",
       "      <td>38</td>\n",
       "      <td>Spain</td>\n",
       "      <td>La Liga</td>\n",
       "      <td>male</td>\n",
       "      <td>False</td>\n",
       "      <td>False</td>\n",
       "      <td>2005/2006</td>\n",
       "      <td>2021-11-28T23:00:27.747396</td>\n",
       "      <td>2021-06-13T16:17:31.694</td>\n",
       "      <td>None</td>\n",
       "      <td>2021-11-28T23:00:27.747396</td>\n",
       "    </tr>\n",
       "    <tr>\n",
       "      <th>35</th>\n",
       "      <td>11</td>\n",
       "      <td>37</td>\n",
       "      <td>Spain</td>\n",
       "      <td>La Liga</td>\n",
       "      <td>male</td>\n",
       "      <td>False</td>\n",
       "      <td>False</td>\n",
       "      <td>2004/2005</td>\n",
       "      <td>2020-07-29T05:00</td>\n",
       "      <td>2021-06-13T16:17:31.694</td>\n",
       "      <td>None</td>\n",
       "      <td>2020-07-29T05:00</td>\n",
       "    </tr>\n",
       "    <tr>\n",
       "      <th>36</th>\n",
       "      <td>49</td>\n",
       "      <td>3</td>\n",
       "      <td>United States of America</td>\n",
       "      <td>NWSL</td>\n",
       "      <td>female</td>\n",
       "      <td>False</td>\n",
       "      <td>False</td>\n",
       "      <td>2018</td>\n",
       "      <td>2021-11-06T05:53:29.435016</td>\n",
       "      <td>2021-06-13T16:17:31.694</td>\n",
       "      <td>None</td>\n",
       "      <td>2021-11-06T05:53:29.435016</td>\n",
       "    </tr>\n",
       "    <tr>\n",
       "      <th>37</th>\n",
       "      <td>2</td>\n",
       "      <td>44</td>\n",
       "      <td>England</td>\n",
       "      <td>Premier League</td>\n",
       "      <td>male</td>\n",
       "      <td>False</td>\n",
       "      <td>False</td>\n",
       "      <td>2003/2004</td>\n",
       "      <td>2021-11-14T22:29:00.646120</td>\n",
       "      <td>2021-06-13T16:17:31.694</td>\n",
       "      <td>None</td>\n",
       "      <td>2021-11-14T22:29:00.646120</td>\n",
       "    </tr>\n",
       "    <tr>\n",
       "      <th>38</th>\n",
       "      <td>55</td>\n",
       "      <td>43</td>\n",
       "      <td>Europe</td>\n",
       "      <td>UEFA Euro</td>\n",
       "      <td>male</td>\n",
       "      <td>False</td>\n",
       "      <td>True</td>\n",
       "      <td>2020</td>\n",
       "      <td>2022-02-01T17:20:34.319496</td>\n",
       "      <td>2021-11-11T13:54:37.507376</td>\n",
       "      <td>2021-11-11T13:54:37.507376</td>\n",
       "      <td>2022-02-01T17:20:34.319496</td>\n",
       "    </tr>\n",
       "    <tr>\n",
       "      <th>39</th>\n",
       "      <td>72</td>\n",
       "      <td>30</td>\n",
       "      <td>International</td>\n",
       "      <td>Women's World Cup</td>\n",
       "      <td>female</td>\n",
       "      <td>False</td>\n",
       "      <td>True</td>\n",
       "      <td>2019</td>\n",
       "      <td>2020-07-29T05:00</td>\n",
       "      <td>2021-06-13T16:17:31.694</td>\n",
       "      <td>None</td>\n",
       "      <td>2020-07-29T05:00</td>\n",
       "    </tr>\n",
       "  </tbody>\n",
       "</table>\n",
       "</div>"
      ],
      "text/plain": [
       "    competition_id  season_id              country_name   competition_name  \\\n",
       "30              11         21                     Spain            La Liga   \n",
       "31              11         41                     Spain            La Liga   \n",
       "32              11         40                     Spain            La Liga   \n",
       "33              11         39                     Spain            La Liga   \n",
       "34              11         38                     Spain            La Liga   \n",
       "35              11         37                     Spain            La Liga   \n",
       "36              49          3  United States of America               NWSL   \n",
       "37               2         44                   England     Premier League   \n",
       "38              55         43                    Europe          UEFA Euro   \n",
       "39              72         30             International  Women's World Cup   \n",
       "\n",
       "   competition_gender  competition_youth  competition_international  \\\n",
       "30               male              False                      False   \n",
       "31               male              False                      False   \n",
       "32               male              False                      False   \n",
       "33               male              False                      False   \n",
       "34               male              False                      False   \n",
       "35               male              False                      False   \n",
       "36             female              False                      False   \n",
       "37               male              False                      False   \n",
       "38               male              False                       True   \n",
       "39             female              False                       True   \n",
       "\n",
       "   season_name               match_updated           match_updated_360  \\\n",
       "30   2009/2010  2021-10-26T13:56:40.989214     2021-06-13T16:17:31.694   \n",
       "31   2008/2009            2020-07-29T05:00     2021-06-13T16:17:31.694   \n",
       "32   2007/2008  2021-10-26T13:13:56.180589     2021-06-13T16:17:31.694   \n",
       "33   2006/2007            2020-07-29T05:00     2021-06-13T16:17:31.694   \n",
       "34   2005/2006  2021-11-28T23:00:27.747396     2021-06-13T16:17:31.694   \n",
       "35   2004/2005            2020-07-29T05:00     2021-06-13T16:17:31.694   \n",
       "36        2018  2021-11-06T05:53:29.435016     2021-06-13T16:17:31.694   \n",
       "37   2003/2004  2021-11-14T22:29:00.646120     2021-06-13T16:17:31.694   \n",
       "38        2020  2022-02-01T17:20:34.319496  2021-11-11T13:54:37.507376   \n",
       "39        2019            2020-07-29T05:00     2021-06-13T16:17:31.694   \n",
       "\n",
       "           match_available_360             match_available  \n",
       "30                        None  2021-10-26T13:56:40.989214  \n",
       "31                        None            2020-07-29T05:00  \n",
       "32                        None  2021-10-26T13:13:56.180589  \n",
       "33                        None            2020-07-29T05:00  \n",
       "34                        None  2021-11-28T23:00:27.747396  \n",
       "35                        None            2020-07-29T05:00  \n",
       "36                        None  2021-11-06T05:53:29.435016  \n",
       "37                        None  2021-11-14T22:29:00.646120  \n",
       "38  2021-11-11T13:54:37.507376  2022-02-01T17:20:34.319496  \n",
       "39                        None            2020-07-29T05:00  "
      ]
     },
     "execution_count": 3,
     "metadata": {},
     "output_type": "execute_result"
    }
   ],
   "source": [
    "sb_comp.tail(10)"
   ]
  },
  {
   "cell_type": "code",
   "execution_count": 4,
   "id": "7ae7c5ed-e843-485b-9ca1-9c68af80d944",
   "metadata": {},
   "outputs": [],
   "source": [
    "sb_comp = sb_comp[sb_comp[\"country_name\"] == \"Spain\"].sort_values([\"season_name\"]).reset_index(drop=True)"
   ]
  },
  {
   "cell_type": "code",
   "execution_count": 5,
   "id": "a20ee118-3b40-4437-9363-382815609863",
   "metadata": {},
   "outputs": [
    {
     "data": {
      "text/html": [
       "<div>\n",
       "<style scoped>\n",
       "    .dataframe tbody tr th:only-of-type {\n",
       "        vertical-align: middle;\n",
       "    }\n",
       "\n",
       "    .dataframe tbody tr th {\n",
       "        vertical-align: top;\n",
       "    }\n",
       "\n",
       "    .dataframe thead th {\n",
       "        text-align: right;\n",
       "    }\n",
       "</style>\n",
       "<table border=\"1\" class=\"dataframe\">\n",
       "  <thead>\n",
       "    <tr style=\"text-align: right;\">\n",
       "      <th></th>\n",
       "      <th>competition_id</th>\n",
       "      <th>season_id</th>\n",
       "      <th>country_name</th>\n",
       "      <th>competition_name</th>\n",
       "      <th>competition_gender</th>\n",
       "      <th>competition_youth</th>\n",
       "      <th>competition_international</th>\n",
       "      <th>season_name</th>\n",
       "      <th>match_updated</th>\n",
       "      <th>match_updated_360</th>\n",
       "      <th>match_available_360</th>\n",
       "      <th>match_available</th>\n",
       "    </tr>\n",
       "  </thead>\n",
       "  <tbody>\n",
       "    <tr>\n",
       "      <th>0</th>\n",
       "      <td>11</td>\n",
       "      <td>37</td>\n",
       "      <td>Spain</td>\n",
       "      <td>La Liga</td>\n",
       "      <td>male</td>\n",
       "      <td>False</td>\n",
       "      <td>False</td>\n",
       "      <td>2004/2005</td>\n",
       "      <td>2020-07-29T05:00</td>\n",
       "      <td>2021-06-13T16:17:31.694</td>\n",
       "      <td>None</td>\n",
       "      <td>2020-07-29T05:00</td>\n",
       "    </tr>\n",
       "    <tr>\n",
       "      <th>1</th>\n",
       "      <td>11</td>\n",
       "      <td>38</td>\n",
       "      <td>Spain</td>\n",
       "      <td>La Liga</td>\n",
       "      <td>male</td>\n",
       "      <td>False</td>\n",
       "      <td>False</td>\n",
       "      <td>2005/2006</td>\n",
       "      <td>2021-11-28T23:00:27.747396</td>\n",
       "      <td>2021-06-13T16:17:31.694</td>\n",
       "      <td>None</td>\n",
       "      <td>2021-11-28T23:00:27.747396</td>\n",
       "    </tr>\n",
       "    <tr>\n",
       "      <th>2</th>\n",
       "      <td>11</td>\n",
       "      <td>39</td>\n",
       "      <td>Spain</td>\n",
       "      <td>La Liga</td>\n",
       "      <td>male</td>\n",
       "      <td>False</td>\n",
       "      <td>False</td>\n",
       "      <td>2006/2007</td>\n",
       "      <td>2020-07-29T05:00</td>\n",
       "      <td>2021-06-13T16:17:31.694</td>\n",
       "      <td>None</td>\n",
       "      <td>2020-07-29T05:00</td>\n",
       "    </tr>\n",
       "    <tr>\n",
       "      <th>3</th>\n",
       "      <td>11</td>\n",
       "      <td>40</td>\n",
       "      <td>Spain</td>\n",
       "      <td>La Liga</td>\n",
       "      <td>male</td>\n",
       "      <td>False</td>\n",
       "      <td>False</td>\n",
       "      <td>2007/2008</td>\n",
       "      <td>2021-10-26T13:13:56.180589</td>\n",
       "      <td>2021-06-13T16:17:31.694</td>\n",
       "      <td>None</td>\n",
       "      <td>2021-10-26T13:13:56.180589</td>\n",
       "    </tr>\n",
       "    <tr>\n",
       "      <th>4</th>\n",
       "      <td>11</td>\n",
       "      <td>41</td>\n",
       "      <td>Spain</td>\n",
       "      <td>La Liga</td>\n",
       "      <td>male</td>\n",
       "      <td>False</td>\n",
       "      <td>False</td>\n",
       "      <td>2008/2009</td>\n",
       "      <td>2020-07-29T05:00</td>\n",
       "      <td>2021-06-13T16:17:31.694</td>\n",
       "      <td>None</td>\n",
       "      <td>2020-07-29T05:00</td>\n",
       "    </tr>\n",
       "    <tr>\n",
       "      <th>5</th>\n",
       "      <td>11</td>\n",
       "      <td>21</td>\n",
       "      <td>Spain</td>\n",
       "      <td>La Liga</td>\n",
       "      <td>male</td>\n",
       "      <td>False</td>\n",
       "      <td>False</td>\n",
       "      <td>2009/2010</td>\n",
       "      <td>2021-10-26T13:56:40.989214</td>\n",
       "      <td>2021-06-13T16:17:31.694</td>\n",
       "      <td>None</td>\n",
       "      <td>2021-10-26T13:56:40.989214</td>\n",
       "    </tr>\n",
       "    <tr>\n",
       "      <th>6</th>\n",
       "      <td>11</td>\n",
       "      <td>22</td>\n",
       "      <td>Spain</td>\n",
       "      <td>La Liga</td>\n",
       "      <td>male</td>\n",
       "      <td>False</td>\n",
       "      <td>False</td>\n",
       "      <td>2010/2011</td>\n",
       "      <td>2021-11-11T22:57:42.361902</td>\n",
       "      <td>2021-06-13T16:17:31.694</td>\n",
       "      <td>None</td>\n",
       "      <td>2021-11-11T22:57:42.361902</td>\n",
       "    </tr>\n",
       "    <tr>\n",
       "      <th>7</th>\n",
       "      <td>11</td>\n",
       "      <td>23</td>\n",
       "      <td>Spain</td>\n",
       "      <td>La Liga</td>\n",
       "      <td>male</td>\n",
       "      <td>False</td>\n",
       "      <td>False</td>\n",
       "      <td>2011/2012</td>\n",
       "      <td>2020-07-29T05:00</td>\n",
       "      <td>2021-06-13T16:17:31.694</td>\n",
       "      <td>None</td>\n",
       "      <td>2020-07-29T05:00</td>\n",
       "    </tr>\n",
       "    <tr>\n",
       "      <th>8</th>\n",
       "      <td>11</td>\n",
       "      <td>24</td>\n",
       "      <td>Spain</td>\n",
       "      <td>La Liga</td>\n",
       "      <td>male</td>\n",
       "      <td>False</td>\n",
       "      <td>False</td>\n",
       "      <td>2012/2013</td>\n",
       "      <td>2021-10-27T15:44:43.940862</td>\n",
       "      <td>2021-06-13T16:17:31.694</td>\n",
       "      <td>None</td>\n",
       "      <td>2021-10-27T15:44:43.940862</td>\n",
       "    </tr>\n",
       "    <tr>\n",
       "      <th>9</th>\n",
       "      <td>11</td>\n",
       "      <td>25</td>\n",
       "      <td>Spain</td>\n",
       "      <td>La Liga</td>\n",
       "      <td>male</td>\n",
       "      <td>False</td>\n",
       "      <td>False</td>\n",
       "      <td>2013/2014</td>\n",
       "      <td>2020-07-29T05:00</td>\n",
       "      <td>2021-06-13T16:17:31.694</td>\n",
       "      <td>None</td>\n",
       "      <td>2020-07-29T05:00</td>\n",
       "    </tr>\n",
       "  </tbody>\n",
       "</table>\n",
       "</div>"
      ],
      "text/plain": [
       "   competition_id  season_id country_name competition_name competition_gender  \\\n",
       "0              11         37        Spain          La Liga               male   \n",
       "1              11         38        Spain          La Liga               male   \n",
       "2              11         39        Spain          La Liga               male   \n",
       "3              11         40        Spain          La Liga               male   \n",
       "4              11         41        Spain          La Liga               male   \n",
       "5              11         21        Spain          La Liga               male   \n",
       "6              11         22        Spain          La Liga               male   \n",
       "7              11         23        Spain          La Liga               male   \n",
       "8              11         24        Spain          La Liga               male   \n",
       "9              11         25        Spain          La Liga               male   \n",
       "\n",
       "   competition_youth  competition_international season_name  \\\n",
       "0              False                      False   2004/2005   \n",
       "1              False                      False   2005/2006   \n",
       "2              False                      False   2006/2007   \n",
       "3              False                      False   2007/2008   \n",
       "4              False                      False   2008/2009   \n",
       "5              False                      False   2009/2010   \n",
       "6              False                      False   2010/2011   \n",
       "7              False                      False   2011/2012   \n",
       "8              False                      False   2012/2013   \n",
       "9              False                      False   2013/2014   \n",
       "\n",
       "                match_updated        match_updated_360 match_available_360  \\\n",
       "0            2020-07-29T05:00  2021-06-13T16:17:31.694                None   \n",
       "1  2021-11-28T23:00:27.747396  2021-06-13T16:17:31.694                None   \n",
       "2            2020-07-29T05:00  2021-06-13T16:17:31.694                None   \n",
       "3  2021-10-26T13:13:56.180589  2021-06-13T16:17:31.694                None   \n",
       "4            2020-07-29T05:00  2021-06-13T16:17:31.694                None   \n",
       "5  2021-10-26T13:56:40.989214  2021-06-13T16:17:31.694                None   \n",
       "6  2021-11-11T22:57:42.361902  2021-06-13T16:17:31.694                None   \n",
       "7            2020-07-29T05:00  2021-06-13T16:17:31.694                None   \n",
       "8  2021-10-27T15:44:43.940862  2021-06-13T16:17:31.694                None   \n",
       "9            2020-07-29T05:00  2021-06-13T16:17:31.694                None   \n",
       "\n",
       "              match_available  \n",
       "0            2020-07-29T05:00  \n",
       "1  2021-11-28T23:00:27.747396  \n",
       "2            2020-07-29T05:00  \n",
       "3  2021-10-26T13:13:56.180589  \n",
       "4            2020-07-29T05:00  \n",
       "5  2021-10-26T13:56:40.989214  \n",
       "6  2021-11-11T22:57:42.361902  \n",
       "7            2020-07-29T05:00  \n",
       "8  2021-10-27T15:44:43.940862  \n",
       "9            2020-07-29T05:00  "
      ]
     },
     "execution_count": 5,
     "metadata": {},
     "output_type": "execute_result"
    }
   ],
   "source": [
    "sb_comp.head(10)"
   ]
  },
  {
   "cell_type": "markdown",
   "id": "6605f8a9-322b-4223-bc50-52fcb13484bd",
   "metadata": {},
   "source": [
    "### 1.2 Extracting shots data and attributes"
   ]
  },
  {
   "cell_type": "markdown",
   "id": "42283e77-7e8a-4e4e-85ba-4d4648d3e381",
   "metadata": {},
   "source": [
    "Using `sb.competition_events` function from Statsbomb, I was able to extract all shots as well as features related to the shots.\n",
    "These features are: \n",
    "\n",
    "- **play pattern**: pattern of play which led to the shot\n",
    "- **x shot_end_location**: x-location of the shot \n",
    "- **y shot_end_location**: y-location of the shot \n",
    "- **duration**: duration of the shot\n",
    "- **outcome**: result of the shot\n",
    "- **technique**: Name of the technique used for the shot.\n",
    "- **shot_first_time**: whether the shot was hit for time or not\n",
    "- **shot_type**: whether the shot was from open play or set piece (and type of set piece specified)\n",
    "- **shot_one_on_one**: one v one vs the keeper\n",
    "- **shot_body_part**: Name of the body part used to shoot.\n",
    "\n",
    "Also some information was extracted to reference shots, but will not be used to train ML model.\n",
    "These are:\n",
    "- **game id in which shot was taken**:\n",
    "- **statsbomb xg**: xg given by statsbomb to compare to my values."
   ]
  },
  {
   "cell_type": "markdown",
   "id": "57e32d36-4cbb-4e16-9d6b-ad9be9e93dd7",
   "metadata": {},
   "source": [
    "#### Concatenating data from the seasons in one dataframe."
   ]
  },
  {
   "cell_type": "code",
   "execution_count": null,
   "id": "de189ec2-160e-4ce3-a31c-06201444dad3",
   "metadata": {
    "tags": []
   },
   "outputs": [
    {
     "name": "stdout",
     "output_type": "stream",
     "text": [
      "credentials were not supplied. open data access only\n",
      "credentials were not supplied. open data access only\n",
      "credentials were not supplied. open data access onlycredentials were not supplied. open data access onlycredentials were not supplied. open data access onlycredentials were not supplied. open data access only\n",
      "\n",
      "\n",
      "\n",
      "credentials were not supplied. open data access only\n",
      "credentials were not supplied. open data access only\n",
      "credentials were not supplied. open data access only\n",
      "credentials were not supplied. open data access only\n",
      "credentials were not supplied. open data access only\n",
      "credentials were not supplied. open data access onlycredentials were not supplied. open data access onlycredentials were not supplied. open data access onlycredentials were not supplied. open data access only\n",
      "\n",
      "\n",
      "\n",
      "credentials were not supplied. open data access only\n",
      "credentials were not supplied. open data access only\n",
      "credentials were not supplied. open data access only\n",
      "credentials were not supplied. open data access only\n",
      "credentials were not supplied. open data access only\n",
      "credentials were not supplied. open data access only\n",
      "credentials were not supplied. open data access only\n",
      "credentials were not supplied. open data access only\n",
      "credentials were not supplied. open data access only\n",
      "credentials were not supplied. open data access only\n",
      "credentials were not supplied. open data access only\n",
      "credentials were not supplied. open data access only\n",
      "credentials were not supplied. open data access only\n",
      "credentials were not supplied. open data access only\n",
      "credentials were not supplied. open data access only\n",
      "credentials were not supplied. open data access onlycredentials were not supplied. open data access onlycredentials were not supplied. open data access onlycredentials were not supplied. open data access only\n",
      "\n",
      "\n",
      "\n",
      "credentials were not supplied. open data access only\n",
      "credentials were not supplied. open data access only\n",
      "credentials were not supplied. open data access only\n",
      "credentials were not supplied. open data access only\n",
      "credentials were not supplied. open data access only\n",
      "credentials were not supplied. open data access only\n",
      "credentials were not supplied. open data access only\n",
      "credentials were not supplied. open data access only\n",
      "credentials were not supplied. open data access only\n",
      "credentials were not supplied. open data access only\n",
      "credentials were not supplied. open data access only\n",
      "credentials were not supplied. open data access only\n",
      "credentials were not supplied. open data access only\n",
      "credentials were not supplied. open data access only\n",
      "credentials were not supplied. open data access only\n",
      "credentials were not supplied. open data access only\n",
      "credentials were not supplied. open data access only\n",
      "credentials were not supplied. open data access only\n",
      "credentials were not supplied. open data access only\n",
      "credentials were not supplied. open data access only\n",
      "credentials were not supplied. open data access only\n",
      "credentials were not supplied. open data access only\n",
      "credentials were not supplied. open data access only\n",
      "credentials were not supplied. open data access only\n",
      "credentials were not supplied. open data access onlycredentials were not supplied. open data access onlycredentials were not supplied. open data access onlycredentials were not supplied. open data access only\n",
      "\n",
      "\n",
      "\n",
      "credentials were not supplied. open data access only\n",
      "credentials were not supplied. open data access only\n",
      "credentials were not supplied. open data access only\n",
      "credentials were not supplied. open data access only\n",
      "credentials were not supplied. open data access only\n",
      "credentials were not supplied. open data access only\n",
      "credentials were not supplied. open data access only\n",
      "credentials were not supplied. open data access only\n",
      "credentials were not supplied. open data access only\n",
      "credentials were not supplied. open data access only\n",
      "credentials were not supplied. open data access only\n",
      "credentials were not supplied. open data access only\n",
      "credentials were not supplied. open data access only\n",
      "credentials were not supplied. open data access only\n",
      "credentials were not supplied. open data access only\n",
      "credentials were not supplied. open data access only\n",
      "credentials were not supplied. open data access only\n",
      "credentials were not supplied. open data access only\n",
      "credentials were not supplied. open data access only\n",
      "credentials were not supplied. open data access only\n",
      "credentials were not supplied. open data access only\n",
      "credentials were not supplied. open data access only\n",
      "credentials were not supplied. open data access only\n",
      "credentials were not supplied. open data access only\n",
      "credentials were not supplied. open data access only\n",
      "credentials were not supplied. open data access only\n",
      "credentials were not supplied. open data access onlycredentials were not supplied. open data access onlycredentials were not supplied. open data access onlycredentials were not supplied. open data access only\n",
      "\n",
      "\n",
      "\n",
      "credentials were not supplied. open data access only\n",
      "credentials were not supplied. open data access only\n",
      "credentials were not supplied. open data access only\n",
      "credentials were not supplied. open data access only\n",
      "credentials were not supplied. open data access only\n",
      "credentials were not supplied. open data access only\n",
      "credentials were not supplied. open data access only\n",
      "credentials were not supplied. open data access only\n",
      "credentials were not supplied. open data access only\n",
      "credentials were not supplied. open data access only\n",
      "credentials were not supplied. open data access only\n",
      "credentials were not supplied. open data access only\n",
      "credentials were not supplied. open data access only\n",
      "credentials were not supplied. open data access only\n",
      "credentials were not supplied. open data access only\n",
      "credentials were not supplied. open data access only\n",
      "credentials were not supplied. open data access only\n",
      "credentials were not supplied. open data access only\n",
      "credentials were not supplied. open data access only\n",
      "credentials were not supplied. open data access only\n",
      "credentials were not supplied. open data access only\n",
      "credentials were not supplied. open data access only\n",
      "credentials were not supplied. open data access only\n",
      "credentials were not supplied. open data access only\n",
      "credentials were not supplied. open data access only\n",
      "credentials were not supplied. open data access only\n",
      "credentials were not supplied. open data access only\n"
     ]
    }
   ],
   "source": [
    "all_grouped_passes = []\n",
    "for season_name in sb_comp.season_name:\n",
    "    grouped_events = sb.competition_events(\n",
    "        country=\"Spain\",\n",
    "        division= \"La Liga\",\n",
    "        season=season_name,\n",
    "        split=True\n",
    "    )['shots']\n",
    "    grouped_events[\"season\"] = season_name\n",
    "    grouped_events = grouped_events[[\"id\", \"season\", \"location\",\"shot_technique\", \"shot_statsbomb_xg\", \"play_pattern\",\n",
    "                                     \"shot_end_location\", \"shot_type\",\"shot_outcome\",\"shot_first_time\",\n",
    "                                     \"shot_one_on_one\",\"duration\",\"shot_body_part\"]]\n",
    "    grouped_events[\"season\"] = season_name\n",
    "    all_grouped_passes.append(grouped_events)\n",
    "    \n",
    "all_grouped_passes = pd.concat(all_grouped_passes, ignore_index=True)"
   ]
  },
  {
   "cell_type": "code",
   "execution_count": null,
   "id": "42cf7529-8ff4-4b68-a512-1831f898b068",
   "metadata": {},
   "outputs": [],
   "source": [
    "all_grouped_passes"
   ]
  },
  {
   "cell_type": "code",
   "execution_count": 7,
   "id": "100e2a19-b889-456f-b76f-465fbd6ebb3b",
   "metadata": {
    "tags": []
   },
   "outputs": [],
   "source": [
    "# all_data = all_grouped_passes.copy()"
   ]
  },
  {
   "cell_type": "code",
   "execution_count": 113,
   "id": "b68b79bd-9198-4683-9f05-021d5654504f",
   "metadata": {},
   "outputs": [
    {
     "data": {
      "text/plain": [
       "(12840, 13)"
      ]
     },
     "execution_count": 113,
     "metadata": {},
     "output_type": "execute_result"
    }
   ],
   "source": [
    "all_grouped_passes.shape"
   ]
  },
  {
   "cell_type": "code",
   "execution_count": 114,
   "id": "cc99a7f4-5551-4661-9dae-ec4ccb82bdf1",
   "metadata": {},
   "outputs": [
    {
     "data": {
      "text/html": [
       "<div>\n",
       "<style scoped>\n",
       "    .dataframe tbody tr th:only-of-type {\n",
       "        vertical-align: middle;\n",
       "    }\n",
       "\n",
       "    .dataframe tbody tr th {\n",
       "        vertical-align: top;\n",
       "    }\n",
       "\n",
       "    .dataframe thead th {\n",
       "        text-align: right;\n",
       "    }\n",
       "</style>\n",
       "<table border=\"1\" class=\"dataframe\">\n",
       "  <thead>\n",
       "    <tr style=\"text-align: right;\">\n",
       "      <th></th>\n",
       "      <th>id</th>\n",
       "      <th>season</th>\n",
       "      <th>location</th>\n",
       "      <th>shot_technique</th>\n",
       "      <th>shot_statsbomb_xg</th>\n",
       "      <th>play_pattern</th>\n",
       "      <th>shot_end_location</th>\n",
       "      <th>shot_type</th>\n",
       "      <th>shot_outcome</th>\n",
       "      <th>shot_first_time</th>\n",
       "      <th>shot_one_on_one</th>\n",
       "      <th>duration</th>\n",
       "      <th>shot_body_part</th>\n",
       "    </tr>\n",
       "  </thead>\n",
       "  <tbody>\n",
       "    <tr>\n",
       "      <th>0</th>\n",
       "      <td>7bae48d6-6021-4833-8560-230234f619e7</td>\n",
       "      <td>2004/2005</td>\n",
       "      <td>[102.0, 52.8]</td>\n",
       "      <td>Volley</td>\n",
       "      <td>0.048476</td>\n",
       "      <td>Regular Play</td>\n",
       "      <td>[120.0, 61.4, 1.9]</td>\n",
       "      <td>Open Play</td>\n",
       "      <td>Off T</td>\n",
       "      <td>True</td>\n",
       "      <td>NaN</td>\n",
       "      <td>1.603682</td>\n",
       "      <td>Right Foot</td>\n",
       "    </tr>\n",
       "    <tr>\n",
       "      <th>1</th>\n",
       "      <td>3a8cb677-aa4d-437d-b0fe-98acbee2f6aa</td>\n",
       "      <td>2004/2005</td>\n",
       "      <td>[89.0, 20.7]</td>\n",
       "      <td>Normal</td>\n",
       "      <td>0.011302</td>\n",
       "      <td>Regular Play</td>\n",
       "      <td>[120.0, 30.1, 0.6]</td>\n",
       "      <td>Open Play</td>\n",
       "      <td>Off T</td>\n",
       "      <td>NaN</td>\n",
       "      <td>NaN</td>\n",
       "      <td>1.512600</td>\n",
       "      <td>Right Foot</td>\n",
       "    </tr>\n",
       "    <tr>\n",
       "      <th>2</th>\n",
       "      <td>a7f9720d-34d4-40c9-88ac-1ffb8f54f698</td>\n",
       "      <td>2004/2005</td>\n",
       "      <td>[81.5, 39.1]</td>\n",
       "      <td>Normal</td>\n",
       "      <td>0.011760</td>\n",
       "      <td>From Free Kick</td>\n",
       "      <td>[120.0, 37.2, 4.9]</td>\n",
       "      <td>Open Play</td>\n",
       "      <td>Off T</td>\n",
       "      <td>NaN</td>\n",
       "      <td>NaN</td>\n",
       "      <td>1.561600</td>\n",
       "      <td>Right Foot</td>\n",
       "    </tr>\n",
       "    <tr>\n",
       "      <th>3</th>\n",
       "      <td>f41c1253-e33e-4edc-a908-9b8670e3162f</td>\n",
       "      <td>2004/2005</td>\n",
       "      <td>[95.0, 53.5]</td>\n",
       "      <td>Normal</td>\n",
       "      <td>0.025624</td>\n",
       "      <td>From Free Kick</td>\n",
       "      <td>[120.0, 46.1, 0.3]</td>\n",
       "      <td>Open Play</td>\n",
       "      <td>Off T</td>\n",
       "      <td>NaN</td>\n",
       "      <td>NaN</td>\n",
       "      <td>1.210900</td>\n",
       "      <td>Left Foot</td>\n",
       "    </tr>\n",
       "    <tr>\n",
       "      <th>4</th>\n",
       "      <td>25227f21-0145-4661-9fe8-6324d37f9bd0</td>\n",
       "      <td>2004/2005</td>\n",
       "      <td>[107.7, 33.8]</td>\n",
       "      <td>Normal</td>\n",
       "      <td>0.327577</td>\n",
       "      <td>From Free Kick</td>\n",
       "      <td>[120.0, 42.8, 1.7]</td>\n",
       "      <td>Open Play</td>\n",
       "      <td>Goal</td>\n",
       "      <td>NaN</td>\n",
       "      <td>True</td>\n",
       "      <td>0.506356</td>\n",
       "      <td>Right Foot</td>\n",
       "    </tr>\n",
       "    <tr>\n",
       "      <th>5</th>\n",
       "      <td>75ef314a-f0d5-4b43-8919-c85ee3f8b458</td>\n",
       "      <td>2004/2005</td>\n",
       "      <td>[89.1, 47.1]</td>\n",
       "      <td>Normal</td>\n",
       "      <td>0.019744</td>\n",
       "      <td>Regular Play</td>\n",
       "      <td>[120.0, 37.4, 2.3]</td>\n",
       "      <td>Open Play</td>\n",
       "      <td>Goal</td>\n",
       "      <td>NaN</td>\n",
       "      <td>NaN</td>\n",
       "      <td>1.436600</td>\n",
       "      <td>Right Foot</td>\n",
       "    </tr>\n",
       "    <tr>\n",
       "      <th>6</th>\n",
       "      <td>9aab611b-4bfa-4b9b-baad-cd28be5c31f2</td>\n",
       "      <td>2004/2005</td>\n",
       "      <td>[98.1, 38.5]</td>\n",
       "      <td>Volley</td>\n",
       "      <td>0.130081</td>\n",
       "      <td>Regular Play</td>\n",
       "      <td>[120.0, 46.6, 0.5]</td>\n",
       "      <td>Open Play</td>\n",
       "      <td>Off T</td>\n",
       "      <td>NaN</td>\n",
       "      <td>NaN</td>\n",
       "      <td>1.408582</td>\n",
       "      <td>Right Foot</td>\n",
       "    </tr>\n",
       "    <tr>\n",
       "      <th>7</th>\n",
       "      <td>7060d6c6-7824-48f6-9ab5-320d92050af4</td>\n",
       "      <td>2004/2005</td>\n",
       "      <td>[108.1, 47.6]</td>\n",
       "      <td>Normal</td>\n",
       "      <td>0.354464</td>\n",
       "      <td>Regular Play</td>\n",
       "      <td>[112.1, 45.8, 0.6]</td>\n",
       "      <td>Open Play</td>\n",
       "      <td>Saved</td>\n",
       "      <td>NaN</td>\n",
       "      <td>NaN</td>\n",
       "      <td>0.154394</td>\n",
       "      <td>Right Foot</td>\n",
       "    </tr>\n",
       "    <tr>\n",
       "      <th>8</th>\n",
       "      <td>8a3abee9-e3a6-4ef2-9fbd-e7843c17c60e</td>\n",
       "      <td>2004/2005</td>\n",
       "      <td>[88.1, 48.0]</td>\n",
       "      <td>Normal</td>\n",
       "      <td>0.035007</td>\n",
       "      <td>From Free Kick</td>\n",
       "      <td>[100.1, 46.4]</td>\n",
       "      <td>Free Kick</td>\n",
       "      <td>Blocked</td>\n",
       "      <td>NaN</td>\n",
       "      <td>NaN</td>\n",
       "      <td>0.368481</td>\n",
       "      <td>Left Foot</td>\n",
       "    </tr>\n",
       "    <tr>\n",
       "      <th>9</th>\n",
       "      <td>ebcef5e8-d5ee-494a-9e38-cecf4c7a1f95</td>\n",
       "      <td>2004/2005</td>\n",
       "      <td>[113.1, 27.5]</td>\n",
       "      <td>Normal</td>\n",
       "      <td>0.158688</td>\n",
       "      <td>Regular Play</td>\n",
       "      <td>[120.0, 35.3, 1.6]</td>\n",
       "      <td>Open Play</td>\n",
       "      <td>Off T</td>\n",
       "      <td>NaN</td>\n",
       "      <td>True</td>\n",
       "      <td>0.674309</td>\n",
       "      <td>Right Foot</td>\n",
       "    </tr>\n",
       "  </tbody>\n",
       "</table>\n",
       "</div>"
      ],
      "text/plain": [
       "                                     id     season       location  \\\n",
       "0  7bae48d6-6021-4833-8560-230234f619e7  2004/2005  [102.0, 52.8]   \n",
       "1  3a8cb677-aa4d-437d-b0fe-98acbee2f6aa  2004/2005   [89.0, 20.7]   \n",
       "2  a7f9720d-34d4-40c9-88ac-1ffb8f54f698  2004/2005   [81.5, 39.1]   \n",
       "3  f41c1253-e33e-4edc-a908-9b8670e3162f  2004/2005   [95.0, 53.5]   \n",
       "4  25227f21-0145-4661-9fe8-6324d37f9bd0  2004/2005  [107.7, 33.8]   \n",
       "5  75ef314a-f0d5-4b43-8919-c85ee3f8b458  2004/2005   [89.1, 47.1]   \n",
       "6  9aab611b-4bfa-4b9b-baad-cd28be5c31f2  2004/2005   [98.1, 38.5]   \n",
       "7  7060d6c6-7824-48f6-9ab5-320d92050af4  2004/2005  [108.1, 47.6]   \n",
       "8  8a3abee9-e3a6-4ef2-9fbd-e7843c17c60e  2004/2005   [88.1, 48.0]   \n",
       "9  ebcef5e8-d5ee-494a-9e38-cecf4c7a1f95  2004/2005  [113.1, 27.5]   \n",
       "\n",
       "  shot_technique  shot_statsbomb_xg    play_pattern   shot_end_location  \\\n",
       "0         Volley           0.048476    Regular Play  [120.0, 61.4, 1.9]   \n",
       "1         Normal           0.011302    Regular Play  [120.0, 30.1, 0.6]   \n",
       "2         Normal           0.011760  From Free Kick  [120.0, 37.2, 4.9]   \n",
       "3         Normal           0.025624  From Free Kick  [120.0, 46.1, 0.3]   \n",
       "4         Normal           0.327577  From Free Kick  [120.0, 42.8, 1.7]   \n",
       "5         Normal           0.019744    Regular Play  [120.0, 37.4, 2.3]   \n",
       "6         Volley           0.130081    Regular Play  [120.0, 46.6, 0.5]   \n",
       "7         Normal           0.354464    Regular Play  [112.1, 45.8, 0.6]   \n",
       "8         Normal           0.035007  From Free Kick       [100.1, 46.4]   \n",
       "9         Normal           0.158688    Regular Play  [120.0, 35.3, 1.6]   \n",
       "\n",
       "   shot_type shot_outcome shot_first_time shot_one_on_one  duration  \\\n",
       "0  Open Play        Off T            True             NaN  1.603682   \n",
       "1  Open Play        Off T             NaN             NaN  1.512600   \n",
       "2  Open Play        Off T             NaN             NaN  1.561600   \n",
       "3  Open Play        Off T             NaN             NaN  1.210900   \n",
       "4  Open Play         Goal             NaN            True  0.506356   \n",
       "5  Open Play         Goal             NaN             NaN  1.436600   \n",
       "6  Open Play        Off T             NaN             NaN  1.408582   \n",
       "7  Open Play        Saved             NaN             NaN  0.154394   \n",
       "8  Free Kick      Blocked             NaN             NaN  0.368481   \n",
       "9  Open Play        Off T             NaN            True  0.674309   \n",
       "\n",
       "  shot_body_part  \n",
       "0     Right Foot  \n",
       "1     Right Foot  \n",
       "2     Right Foot  \n",
       "3      Left Foot  \n",
       "4     Right Foot  \n",
       "5     Right Foot  \n",
       "6     Right Foot  \n",
       "7     Right Foot  \n",
       "8      Left Foot  \n",
       "9     Right Foot  "
      ]
     },
     "execution_count": 114,
     "metadata": {},
     "output_type": "execute_result"
    }
   ],
   "source": [
    "all_grouped_passes.head(10)"
   ]
  },
  {
   "cell_type": "markdown",
   "id": "7094722b-a8f2-4aee-91e0-423970bfab87",
   "metadata": {},
   "source": [
    "## 2. Data preprocessing for ML models\n"
   ]
  },
  {
   "cell_type": "code",
   "execution_count": 119,
   "id": "e8cdb3a5-1758-4fc2-8e26-1813b6675b27",
   "metadata": {},
   "outputs": [
    {
     "name": "stdout",
     "output_type": "stream",
     "text": [
      "id                         0\n",
      "season                     0\n",
      "shot_technique             0\n",
      "shot_statsbomb_xg          0\n",
      "play_pattern               0\n",
      "shot_type                  0\n",
      "shot_outcome               0\n",
      "shot_first_time         8942\n",
      "shot_one_on_one        11891\n",
      "duration                   0\n",
      "shot_body_part             0\n",
      "x_start_location           0\n",
      "y_start_location           0\n",
      "x_shot_end_location        0\n",
      "y_shot_end_location        0\n",
      "z_shot_end_location     3284\n",
      "dtype: int64\n"
     ]
    }
   ],
   "source": [
    "print(all_grouped_passes.isna().sum())\n"
   ]
  },
  {
   "cell_type": "code",
   "execution_count": 116,
   "id": "2966367a-f6dd-4db9-adb9-bb72beabb586",
   "metadata": {},
   "outputs": [],
   "source": [
    "all_grouped_passes[['x_start_location','y_start_location']] = pd.DataFrame(all_grouped_passes['location'].to_list())\n",
    "all_grouped_passes[['x_shot_end_location','y_shot_end_location', 'z_shot_end_location']] = pd.DataFrame(all_grouped_passes['shot_end_location'].to_list())\n",
    "all_grouped_passes.drop([\"location\", \"shot_end_location\"], axis=1, inplace=True)"
   ]
  },
  {
   "cell_type": "code",
   "execution_count": 120,
   "id": "827f1203-2b94-4ec5-9296-b6388b493724",
   "metadata": {},
   "outputs": [
    {
     "name": "stdout",
     "output_type": "stream",
     "text": [
      "id                         0\n",
      "season                     0\n",
      "shot_technique             0\n",
      "shot_statsbomb_xg          0\n",
      "play_pattern               0\n",
      "shot_type                  0\n",
      "shot_outcome               0\n",
      "shot_first_time         8942\n",
      "shot_one_on_one        11891\n",
      "duration                   0\n",
      "shot_body_part             0\n",
      "x_start_location           0\n",
      "y_start_location           0\n",
      "x_shot_end_location        0\n",
      "y_shot_end_location        0\n",
      "z_shot_end_location     3284\n",
      "dtype: int64\n"
     ]
    }
   ],
   "source": [
    "print(all_grouped_passes.isna().sum())\n"
   ]
  },
  {
   "cell_type": "code",
   "execution_count": 121,
   "id": "fd3ad5e4-1825-4d43-8a13-8b0c90ac7139",
   "metadata": {},
   "outputs": [
    {
     "data": {
      "text/plain": [
       "id                      object\n",
       "season                  object\n",
       "shot_technique          object\n",
       "shot_statsbomb_xg      float64\n",
       "play_pattern            object\n",
       "shot_type               object\n",
       "shot_outcome            object\n",
       "shot_first_time         object\n",
       "shot_one_on_one         object\n",
       "duration               float64\n",
       "shot_body_part          object\n",
       "x_start_location       float64\n",
       "y_start_location       float64\n",
       "x_shot_end_location    float64\n",
       "y_shot_end_location    float64\n",
       "z_shot_end_location    float64\n",
       "dtype: object"
      ]
     },
     "execution_count": 121,
     "metadata": {},
     "output_type": "execute_result"
    }
   ],
   "source": [
    "all_grouped_passes.dtypes"
   ]
  },
  {
   "cell_type": "markdown",
   "id": "183c833e-f7f2-497c-8d5d-48a3da96dbed",
   "metadata": {},
   "source": [
    "#### Replacing NaN with False for shots first time and one v one as absence of a value means False."
   ]
  },
  {
   "cell_type": "code",
   "execution_count": 122,
   "id": "dfe840a2-d6ce-4497-b466-2ee378abe8d6",
   "metadata": {},
   "outputs": [],
   "source": [
    "all_grouped_passes['shot_first_time'] = all_grouped_passes['shot_first_time'].fillna(False)\n",
    "all_grouped_passes['shot_first_time'] = all_grouped_passes.shot_first_time==True\n",
    "\n",
    "all_grouped_passes['shot_one_on_one'] = all_grouped_passes['shot_one_on_one'].fillna(False)\n",
    "all_grouped_passes['shot_one_on_one'] = all_grouped_passes.shot_one_on_one==True\n"
   ]
  },
  {
   "cell_type": "code",
   "execution_count": 124,
   "id": "5d45de05-e11e-4938-85ce-05f6e87a72e7",
   "metadata": {},
   "outputs": [],
   "source": [
    "all_grouped_passes[[\"shot_first_time\", \"shot_one_on_one\"]] = all_grouped_passes[[\"shot_first_time\", \"shot_one_on_one\"]].astype(int)"
   ]
  },
  {
   "cell_type": "code",
   "execution_count": 127,
   "id": "bf57edac-d3b8-4767-bc25-6eda37310151",
   "metadata": {},
   "outputs": [],
   "source": [
    "# drop z_shot_end_location as it has NAs for now.\n",
    "all_grouped_passes.drop([\"z_shot_end_location\"], inplace=True, axis=1)"
   ]
  },
  {
   "cell_type": "markdown",
   "id": "670dcd98-41fb-4b8d-8510-f336e5c85ff8",
   "metadata": {},
   "source": [
    "#### Convert outcome to a binary variable (Goal = 1, Other = 0). My motivation here is use this as a label to train model. Hence, I am only interested in if the shot is goal and not goal."
   ]
  },
  {
   "cell_type": "code",
   "execution_count": 128,
   "id": "a39c26be-b313-4e8d-9571-bda30f1851b8",
   "metadata": {},
   "outputs": [
    {
     "name": "stderr",
     "output_type": "stream",
     "text": [
      "/Users/sidd/miniconda3/envs/sid_realtor/lib/python3.7/site-packages/pandas/core/indexing.py:1637: SettingWithCopyWarning: \n",
      "A value is trying to be set on a copy of a slice from a DataFrame\n",
      "\n",
      "See the caveats in the documentation: https://pandas.pydata.org/pandas-docs/stable/user_guide/indexing.html#returning-a-view-versus-a-copy\n",
      "  self._setitem_single_block(indexer, value, name)\n"
     ]
    }
   ],
   "source": [
    "goal_label_mask = all_grouped_passes[\"shot_outcome\"].str.contains(\"Goal\")\n",
    "all_grouped_passes[\"shot_outcome\"].loc[goal_label_mask] = 1\n",
    "all_grouped_passes[\"shot_outcome\"].loc[~goal_label_mask] = 0"
   ]
  },
  {
   "cell_type": "code",
   "execution_count": 154,
   "id": "face8dd5-a268-4d69-933b-0e80bfb35c19",
   "metadata": {},
   "outputs": [],
   "source": [
    "all_grouped_passes[\"shot_outcome\"] = pd.to_numeric(all_grouped_passes[\"shot_outcome\"])"
   ]
  },
  {
   "cell_type": "markdown",
   "id": "564d2f5a-2b7d-4139-8929-d35258a997b2",
   "metadata": {},
   "source": [
    "#### Looking at different categories of categorical variables"
   ]
  },
  {
   "cell_type": "code",
   "execution_count": 130,
   "id": "38a8d038-b627-48f1-bcfe-1e295e5e6197",
   "metadata": {},
   "outputs": [
    {
     "name": "stdout",
     "output_type": "stream",
     "text": [
      "Open Play    11702\n",
      "Free Kick      973\n",
      "Penalty        164\n",
      "Corner           1\n",
      "Name: shot_type, dtype: int64\n",
      "Normal           10471\n",
      "Half Volley       1206\n",
      "Volley             760\n",
      "Lob                233\n",
      "Overhead Kick       81\n",
      "Diving Header       52\n",
      "Backheel            37\n",
      "Name: shot_technique, dtype: int64\n",
      "Right Foot    6318\n",
      "Left Foot     4879\n",
      "Head          1610\n",
      "Other           33\n",
      "Name: shot_body_part, dtype: int64\n",
      "Regular Play      4544\n",
      "From Free Kick    3079\n",
      "From Throw In     1947\n",
      "From Corner       1746\n",
      "From Counter       567\n",
      "From Goal Kick     456\n",
      "Other              183\n",
      "From Kick Off      168\n",
      "From Keeper        150\n",
      "Name: play_pattern, dtype: int64\n",
      "0    11084\n",
      "1     1756\n",
      "Name: shot_outcome, dtype: int64\n"
     ]
    }
   ],
   "source": [
    "print(all_grouped_passes[\"shot_type\"].value_counts())\n",
    "print(all_grouped_passes[\"shot_technique\"].value_counts())\n",
    "print(all_grouped_passes[\"shot_body_part\"].value_counts())\n",
    "print(all_grouped_passes[\"play_pattern\"].value_counts())\n",
    "print(all_grouped_passes[\"shot_outcome\"].value_counts())"
   ]
  },
  {
   "cell_type": "markdown",
   "id": "698c3205-fb4a-4028-bcea-d744d89d3d65",
   "metadata": {},
   "source": [
    "### Create a training and test set"
   ]
  },
  {
   "cell_type": "code",
   "execution_count": 157,
   "id": "ca4ecef7-d684-4cf6-826a-dc66e9a79619",
   "metadata": {},
   "outputs": [],
   "source": [
    "### Train test split. \n",
    "features=all_grouped_passes.drop([\"shot_outcome\", \"season\", \"shot_statsbomb_xg\"], axis=1)\n",
    "targets=all_grouped_passes[\"shot_outcome\"]\n",
    "\n"
   ]
  },
  {
   "cell_type": "markdown",
   "id": "ccedc3fb-b7a1-4339-a7e6-350d641cfd0d",
   "metadata": {
    "tags": []
   },
   "source": [
    "#### One hot encoding for categorical variables"
   ]
  },
  {
   "cell_type": "code",
   "execution_count": 176,
   "id": "9e51c4b7-c625-496b-accf-d03567c88715",
   "metadata": {},
   "outputs": [],
   "source": [
    "features = pd.get_dummies(features,prefix=[\"play_pattern\", \"shot_technique\",\"shot_type\",\"shot_body_part\"],\n",
    "                         columns = [\"play_pattern\", \"shot_technique\",\"shot_type\",\"shot_body_part\"], drop_first=True)"
   ]
  },
  {
   "cell_type": "code",
   "execution_count": 249,
   "id": "562695a6-12c9-44d8-8161-4c3d449ef33a",
   "metadata": {},
   "outputs": [],
   "source": [
    "X_train, X_test, y_train, y_test = train_test_split(features, targets, test_size=0.2,stratify=targets)\n"
   ]
  },
  {
   "cell_type": "code",
   "execution_count": 250,
   "id": "8f707d9a-7e6f-455a-be84-5380d08daada",
   "metadata": {},
   "outputs": [
    {
     "data": {
      "text/plain": [
       "0    8867\n",
       "1    1405\n",
       "Name: shot_outcome, dtype: int64"
      ]
     },
     "execution_count": 250,
     "metadata": {},
     "output_type": "execute_result"
    }
   ],
   "source": [
    "y_train.value_counts()"
   ]
  },
  {
   "cell_type": "code",
   "execution_count": 251,
   "id": "484df5c4-c61d-4ad2-8b33-3da257de5528",
   "metadata": {},
   "outputs": [
    {
     "data": {
      "text/plain": [
       "0    2217\n",
       "1     351\n",
       "Name: shot_outcome, dtype: int64"
      ]
     },
     "execution_count": 251,
     "metadata": {},
     "output_type": "execute_result"
    }
   ],
   "source": [
    "y_test.value_counts()"
   ]
  },
  {
   "cell_type": "code",
   "execution_count": 269,
   "id": "bd7f16be-bfcb-410a-b094-b4c78c3ba3ac",
   "metadata": {},
   "outputs": [],
   "source": [
    "X_train.reset_index(drop=True, inplace=True)\n",
    "X_test.reset_index(drop=True, inplace=True)\n",
    "y_train.reset_index(drop=True, inplace=True)\n",
    "y_test.reset_index(drop=True, inplace=True)"
   ]
  },
  {
   "cell_type": "markdown",
   "id": "6a8deced-7782-4394-926c-fcfb4091fea5",
   "metadata": {},
   "source": [
    "### Model Training and Performance using Random Forest\n"
   ]
  },
  {
   "cell_type": "code",
   "execution_count": 286,
   "id": "940db8e4-0e5b-4005-87a8-bccbe663356f",
   "metadata": {},
   "outputs": [],
   "source": [
    "rf = RandomForestClassifier(n_estimators=100, max_depth=50, class_weight=\"balanced\", random_state=50)"
   ]
  },
  {
   "cell_type": "code",
   "execution_count": 287,
   "id": "aa076318-6e1e-4667-b03b-897760a67ff6",
   "metadata": {},
   "outputs": [
    {
     "name": "stdout",
     "output_type": "stream",
     "text": [
      "\t Train score: 1.000\n",
      "\t Test score: 0.939\n",
      "\n",
      "\n",
      "              precision    recall  f1-score   support\n",
      "\n",
      "           0       0.96      0.97      0.96      2217\n",
      "           1       0.79      0.76      0.77       351\n",
      "\n",
      "    accuracy                           0.94      2568\n",
      "   macro avg       0.87      0.87      0.87      2568\n",
      "weighted avg       0.94      0.94      0.94      2568\n",
      "\n",
      "\n",
      "\n"
     ]
    }
   ],
   "source": [
    "rf.fit(X_train.drop('id', axis=1), y_train)\n",
    "print(f\"\\t Train score: {rf.score(X_train.drop('id', axis=1), y_train):.3f}\")\n",
    "print(f\"\\t Test score: {rf.score(X_test.drop('id', axis=1), y_test):.3f}\")\n",
    "print(\"\\n\")\n",
    "print(classification_report(y_test, rf.predict(X_test.drop('id', axis=1))))\n",
    "print(\"\\n\")\n",
    "x_test_pred = rf.predict_proba(X_test.drop('id', axis=1))\n"
   ]
  },
  {
   "cell_type": "code",
   "execution_count": 290,
   "id": "e0b64987-779f-4be1-8187-0c6272c0244e",
   "metadata": {},
   "outputs": [
    {
     "name": "stderr",
     "output_type": "stream",
     "text": [
      "/Users/sidd/miniconda3/envs/sid_realtor/lib/python3.7/site-packages/ipykernel_launcher.py:1: SettingWithCopyWarning: \n",
      "A value is trying to be set on a copy of a slice from a DataFrame.\n",
      "Try using .loc[row_indexer,col_indexer] = value instead\n",
      "\n",
      "See the caveats in the documentation: https://pandas.pydata.org/pandas-docs/stable/user_guide/indexing.html#returning-a-view-versus-a-copy\n",
      "  \"\"\"Entry point for launching an IPython kernel.\n"
     ]
    }
   ],
   "source": [
    "X_test[\"rf_xG\"] = x_test_pred[:,1]"
   ]
  },
  {
   "cell_type": "markdown",
   "id": "f850d6fe-3ce4-44e2-a574-3f687c34c905",
   "metadata": {},
   "source": [
    "### Model Comaprison\n"
   ]
  },
  {
   "cell_type": "code",
   "execution_count": 291,
   "id": "f9d660d1-f1fb-4ff6-82c7-44b8b5814f34",
   "metadata": {},
   "outputs": [],
   "source": [
    "all_grouped_passes_stats_bomb_xg = all_grouped_passes[[\"id\",\"shot_statsbomb_xg\"]]"
   ]
  },
  {
   "cell_type": "code",
   "execution_count": 292,
   "id": "9110ea5d-8151-44fc-995d-38f5ea1129d5",
   "metadata": {},
   "outputs": [
    {
     "data": {
      "text/html": [
       "<div>\n",
       "<style scoped>\n",
       "    .dataframe tbody tr th:only-of-type {\n",
       "        vertical-align: middle;\n",
       "    }\n",
       "\n",
       "    .dataframe tbody tr th {\n",
       "        vertical-align: top;\n",
       "    }\n",
       "\n",
       "    .dataframe thead th {\n",
       "        text-align: right;\n",
       "    }\n",
       "</style>\n",
       "<table border=\"1\" class=\"dataframe\">\n",
       "  <thead>\n",
       "    <tr style=\"text-align: right;\">\n",
       "      <th></th>\n",
       "      <th>id</th>\n",
       "      <th>shot_statsbomb_xg</th>\n",
       "    </tr>\n",
       "  </thead>\n",
       "  <tbody>\n",
       "    <tr>\n",
       "      <th>0</th>\n",
       "      <td>7bae48d6-6021-4833-8560-230234f619e7</td>\n",
       "      <td>0.048476</td>\n",
       "    </tr>\n",
       "    <tr>\n",
       "      <th>1</th>\n",
       "      <td>3a8cb677-aa4d-437d-b0fe-98acbee2f6aa</td>\n",
       "      <td>0.011302</td>\n",
       "    </tr>\n",
       "    <tr>\n",
       "      <th>2</th>\n",
       "      <td>a7f9720d-34d4-40c9-88ac-1ffb8f54f698</td>\n",
       "      <td>0.011760</td>\n",
       "    </tr>\n",
       "    <tr>\n",
       "      <th>3</th>\n",
       "      <td>f41c1253-e33e-4edc-a908-9b8670e3162f</td>\n",
       "      <td>0.025624</td>\n",
       "    </tr>\n",
       "    <tr>\n",
       "      <th>4</th>\n",
       "      <td>25227f21-0145-4661-9fe8-6324d37f9bd0</td>\n",
       "      <td>0.327577</td>\n",
       "    </tr>\n",
       "    <tr>\n",
       "      <th>...</th>\n",
       "      <td>...</td>\n",
       "      <td>...</td>\n",
       "    </tr>\n",
       "    <tr>\n",
       "      <th>12835</th>\n",
       "      <td>b13d03b8-fe03-47da-a930-bce002e8db64</td>\n",
       "      <td>0.031355</td>\n",
       "    </tr>\n",
       "    <tr>\n",
       "      <th>12836</th>\n",
       "      <td>55b21d5b-045b-4bd3-b077-9be666afa3f2</td>\n",
       "      <td>0.124914</td>\n",
       "    </tr>\n",
       "    <tr>\n",
       "      <th>12837</th>\n",
       "      <td>584ce4a4-95da-47dd-9c68-7202d087d4f5</td>\n",
       "      <td>0.425698</td>\n",
       "    </tr>\n",
       "    <tr>\n",
       "      <th>12838</th>\n",
       "      <td>6f8978b6-4c64-4202-ab8d-d3451e694bf4</td>\n",
       "      <td>0.040110</td>\n",
       "    </tr>\n",
       "    <tr>\n",
       "      <th>12839</th>\n",
       "      <td>6a6bea66-626a-4679-8a3a-8d989d189bb3</td>\n",
       "      <td>0.037791</td>\n",
       "    </tr>\n",
       "  </tbody>\n",
       "</table>\n",
       "<p>12840 rows × 2 columns</p>\n",
       "</div>"
      ],
      "text/plain": [
       "                                         id  shot_statsbomb_xg\n",
       "0      7bae48d6-6021-4833-8560-230234f619e7           0.048476\n",
       "1      3a8cb677-aa4d-437d-b0fe-98acbee2f6aa           0.011302\n",
       "2      a7f9720d-34d4-40c9-88ac-1ffb8f54f698           0.011760\n",
       "3      f41c1253-e33e-4edc-a908-9b8670e3162f           0.025624\n",
       "4      25227f21-0145-4661-9fe8-6324d37f9bd0           0.327577\n",
       "...                                     ...                ...\n",
       "12835  b13d03b8-fe03-47da-a930-bce002e8db64           0.031355\n",
       "12836  55b21d5b-045b-4bd3-b077-9be666afa3f2           0.124914\n",
       "12837  584ce4a4-95da-47dd-9c68-7202d087d4f5           0.425698\n",
       "12838  6f8978b6-4c64-4202-ab8d-d3451e694bf4           0.040110\n",
       "12839  6a6bea66-626a-4679-8a3a-8d989d189bb3           0.037791\n",
       "\n",
       "[12840 rows x 2 columns]"
      ]
     },
     "execution_count": 292,
     "metadata": {},
     "output_type": "execute_result"
    }
   ],
   "source": [
    "all_grouped_passes_stats_bomb_xg"
   ]
  },
  {
   "cell_type": "markdown",
   "id": "789a5fcf-0041-488c-af64-2f2319fa207e",
   "metadata": {},
   "source": [
    "#### Comparison with Statsbomb"
   ]
  },
  {
   "cell_type": "code",
   "execution_count": 293,
   "id": "5221e5fc-2364-41a4-b0f1-cede9ead73ba",
   "metadata": {},
   "outputs": [],
   "source": [
    "compare_with_statsbomb = X_test.merge(all_grouped_passes_stats_bomb_xg)"
   ]
  },
  {
   "cell_type": "markdown",
   "id": "1df4668d-cf9d-4894-bce5-64a6a15c12df",
   "metadata": {},
   "source": [
    "> The figure below shows the xG values predicted by the Random models plotted against Statsbomb’s values."
   ]
  },
  {
   "cell_type": "code",
   "execution_count": 301,
   "id": "79ce99af-433c-48f0-8a3a-673deb30f562",
   "metadata": {},
   "outputs": [
    {
     "data": {
      "text/plain": [
       "Text(0, 0.5, 'Random Forest xG')"
      ]
     },
     "execution_count": 301,
     "metadata": {},
     "output_type": "execute_result"
    },
    {
     "data": {
      "image/png": "[encoded data removed]",
      "text/plain": [
       "<Figure size 1440x720 with 1 Axes>"
      ]
     },
     "metadata": {
      "needs_background": "light"
     },
     "output_type": "display_data"
    }
   ],
   "source": [
    "fig, ax = plt.subplots(1, 1, figsize=(20,10))\n",
    "compare_with_statsbomb.plot(\"shot_statsbomb_xg\", \"rf_xG\", kind=\"scatter\", ax=ax, alpha=0.25)\n",
    "ax.plot([0, 1], [0, 1], color='red')\n",
    "ax.tick_params(labelsize=14)\n",
    "ax.set_xlabel(\"Statsbomb xG\", size=16)\n",
    "ax.set_ylabel(\"Random Forest xG\", size=16)"
   ]
  },
  {
   "cell_type": "markdown",
   "id": "7bd16f1d-b679-4037-8cab-72a71b2e07f1",
   "metadata": {},
   "source": [
    "### Future Work and Conclusion"
   ]
  },
  {
   "cell_type": "markdown",
   "id": "cbaaa28b-3568-4aff-9e52-550a94089ead",
   "metadata": {},
   "source": [
    "* We can see that Random Forest's values have quite a large spread around Statsbomb’s. However, it is important to keep in mind that the models were trained on only Barcelona’s La Liga data from 2004-2020 which is roughly 12,000 shots, whereas Statsbomb’s model was likely trained on a much larger data set. Feeding more data into our models would certainly improve performance. \n",
    "\n",
    "* Saying that, there are certainly other improvements that could be made outside of this. An obvious improvement could be to engineer better features. Some of these features could be **the distance from goal when the shot was taken**, **the angle with respect to the goal**. All these ideas, and many more, could improve the model, and may be implemented in the future.\n"
   ]
  }
 ],
 "metadata": {
  "kernelspec": {
   "display_name": "Python xgboost",
   "language": "python",
   "name": "sid_realtor"
  },
  "language_info": {
   "codemirror_mode": {
    "name": "ipython",
    "version": 3
   },
   "file_extension": ".py",
   "mimetype": "text/x-python",
   "name": "python",
   "nbconvert_exporter": "python",
   "pygments_lexer": "ipython3",
   "version": "3.7.10"
  }
 },
 "nbformat": 4,
 "nbformat_minor": 5
}
